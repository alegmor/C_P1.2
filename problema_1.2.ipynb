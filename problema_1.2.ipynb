{
 "cells": [
  {
   "cell_type": "markdown",
   "id": "52a6d870",
   "metadata": {
    "nbgrader": {
     "grade": false,
     "grade_id": "cell-a995f8ee392970bb",
     "locked": true,
     "schema_version": 3,
     "solution": false,
     "task": false
    }
   },
   "source": [
    "<div>\n",
    "<img align=\"center\"\n",
    "src=\"Images/HT-banner.png\" width=\"950\" height=\"9500\"/>\n",
    "</div>\n",
    "\n",
    "#### <center> Problema 1.2\n",
    "<center> Fundamentals of Heat and Mass Transfer 6th edition\n",
    "<div>\n",
    "<pre>\n",
    "<img align=\"center\"\n",
    "src=\"Images/bloquep12.jpg\" width=\"300\" height=\"300\"/>\n",
    "</div>  "
   ]
  },
  {
   "cell_type": "markdown",
   "id": "5075c2c1",
   "metadata": {
    "nbgrader": {
     "grade": false,
     "grade_id": "cell-05dce4280839f7b7",
     "locked": true,
     "schema_version": 3,
     "solution": false,
     "task": false
    }
   },
   "source": [
    "\n",
    "Una pared de concreto, que tiene un área superificial de $A=20 \\mbox{m}^2$ y $L=0.30 \\mbox{m}$ de espesor, separa el aire acondicionado de una habitación del aire ambiental. La temperatura de la superficie interna de la pared se mantiene a $T_1=25 ^\\circ \\mbox{C}$ y la conductividad térmica del concreto es $k=1 \\mbox{W/mK}$.\n",
    "\n",
    " (a) Crea una función que calcule la pérdida de calor a través de la pared para temperaturas ambientes $T_a$ en el rango de $-15 ^\\circ \\mbox{C}$ a $ 38 ^\\circ \\mbox{C}$, que corresponden a extremos de invierno y verano, respectivamente. Comprueba tu resultado y muestra que la grafica de la pérdida de calor es como la siguienta figura\n",
    " \n",
    "<div>\n",
    "<img align=\"center\"\n",
    "src=\"Images/Tarea2-1.png\" width=\"370\" height=\"370\"/>\n",
    "</div>   \n"
   ]
  },
  {
   "cell_type": "code",
   "execution_count": 1,
   "id": "d1c66a99",
   "metadata": {
    "nbgrader": {
     "grade": false,
     "grade_id": "cell-d7899c6a0c09db70",
     "locked": true,
     "schema_version": 3,
     "solution": false,
     "task": false
    }
   },
   "outputs": [],
   "source": [
    "#importar bibliotecas \n",
    "import numpy as np \n",
    "import matplotlib.pyplot as plt \n",
    "from macti.evaluacion import Evalua\n",
    "evaluacion = Evalua(\"../../utils/data/solutions\", local=True)"
   ]
  },
  {
   "cell_type": "code",
   "execution_count": 2,
   "id": "083f6027",
   "metadata": {
    "nbgrader": {
     "grade": false,
     "grade_id": "cell-d966c9c450b6887d",
     "locked": false,
     "schema_version": 3,
     "solution": true,
     "task": false
    }
   },
   "outputs": [],
   "source": [
    "def qx(k,A,T1,Ta,L):\n",
    "    #BEGIN SOLUTION\n",
    "    q = (k*A*(T1-Ta))/L \n",
    "    #END SOLUTION\n",
    "    return q"
   ]
  },
  {
   "cell_type": "code",
   "execution_count": 3,
   "id": "9d8b63e1",
   "metadata": {
    "nbgrader": {
     "grade": true,
     "grade_id": "cell-2f187d3069afd9cd",
     "locked": true,
     "points": 0,
     "schema_version": 3,
     "solution": false,
     "task": false
    }
   },
   "outputs": [
    {
     "ename": "SyntaxError",
     "evalue": "invalid syntax (375180741.py, line 2)",
     "output_type": "error",
     "traceback": [
      "\u001b[0;36m  File \u001b[0;32m\"/tmp/ipykernel_915713/375180741.py\"\u001b[0;36m, line \u001b[0;32m2\u001b[0m\n\u001b[0;31m    k  =\u001b[0m\n\u001b[0m          ^\u001b[0m\n\u001b[0;31mSyntaxError\u001b[0m\u001b[0;31m:\u001b[0m invalid syntax\n"
     ]
    }
   ],
   "source": [
    "#Definir parámetros\n",
    "k  =  \n",
    "A  = \n",
    "T1 = \n",
    "L  = \n",
    "Ta = "
   ]
  },
  {
   "cell_type": "code",
   "execution_count": null,
   "id": "adabfdfa",
   "metadata": {
    "nbgrader": {
     "grade": false,
     "grade_id": "cell-07e804042a1e3cd2",
     "locked": true,
     "schema_version": 3,
     "solution": false,
     "task": false
    }
   },
   "outputs": [],
   "source": [
    "evaluacion.verifica(qx(k,A,T1,Ta,L),3)"
   ]
  },
  {
   "cell_type": "markdown",
   "id": "7345f446",
   "metadata": {
    "nbgrader": {
     "grade": false,
     "grade_id": "cell-e284292c7a9f9a41",
     "locked": true,
     "schema_version": 3,
     "solution": false,
     "task": false
    }
   },
   "source": [
    " (b) Grafica la pérdida de calor $q_x$ como función de la temperatura $T_a$ ambiente para materiales de la pared que tengan conductividades térmicas de $k_0=1 \\mbox{W/mK}$, $k_1=0.75$ y $k_2=1.25 \\mbox{W/mK}$. Compara tu gráfica con la siguiente figura y explica tus resultados\n",
    "<pre>\n",
    "<div>\n",
    "<img align=\"center\"\n",
    "src=\"Images/Tarea2-2.png\" width=\"370\" height=\"370\"/>\n",
    "</div>   "
   ]
  },
  {
   "cell_type": "code",
   "execution_count": null,
   "id": "f9874743",
   "metadata": {
    "nbgrader": {
     "grade": true,
     "grade_id": "cell-bd3377cdbbb6e78b",
     "locked": false,
     "points": 0,
     "schema_version": 3,
     "solution": true,
     "task": false
    }
   },
   "outputs": [],
   "source": [
    "#GRAFICA T(x)\n"
   ]
  }
 ],
 "metadata": {
  "celltoolbar": "Create Assignment",
  "kernelspec": {
   "display_name": "Python 3 (ipykernel)",
   "language": "python",
   "name": "python3"
  },
  "language_info": {
   "codemirror_mode": {
    "name": "ipython",
    "version": 3
   },
   "file_extension": ".py",
   "mimetype": "text/x-python",
   "name": "python",
   "nbconvert_exporter": "python",
   "pygments_lexer": "ipython3",
   "version": "3.9.7"
  }
 },
 "nbformat": 4,
 "nbformat_minor": 5
}
